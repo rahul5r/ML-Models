{
  "cells": [
    {
      "cell_type": "markdown",
      "metadata": {},
      "source": [
        "**This notebook is of my submition to the Assigment project for freecodecamp**"
      ]
    },
    {
      "cell_type": "markdown",
      "metadata": {},
      "source": [
        "https://www.freecodecamp.org/learn/machine-learning-with-python/machine-learning-with-python-projects/linear-regression-health-costs-calculator"
      ]
    },
    {
      "cell_type": "code",
      "execution_count": null,
      "metadata": {
        "id": "1rRo8oNqZ-Rj"
      },
      "outputs": [],
      "source": [
        "# Import libraries. You may or may not use all of these.\n",
        "!pip install -q git+https://github.com/tensorflow/docs\n",
        "import matplotlib.pyplot as plt\n",
        "import numpy as np\n",
        "import pandas as pd\n",
        "\n",
        "try:\n",
        "  # %tensorflow_version only exists in Colab.\n",
        "  %tensorflow_version 2.x\n",
        "except Exception:\n",
        "  pass\n",
        "import tensorflow as tf\n",
        "\n",
        "from tensorflow import keras\n",
        "from tensorflow.keras import layers\n",
        "\n",
        "import tensorflow_docs as tfdocs\n",
        "import tensorflow_docs.plots\n",
        "import tensorflow_docs.modeling"
      ]
    },
    {
      "cell_type": "markdown",
      "metadata": {
        "id": "D2OLtV3iMzgY"
      },
      "source": [
        "### **Loading the Dataset**"
      ]
    },
    {
      "cell_type": "code",
      "execution_count": null,
      "metadata": {
        "id": "CiX2FI4gZtTt"
      },
      "outputs": [],
      "source": [
        "# Import data\n",
        "!wget https://cdn.freecodecamp.org/project-data/health-costs/insurance.csv\n",
        "dataset = pd.read_csv('insurance.csv')"
      ]
    },
    {
      "cell_type": "markdown",
      "metadata": {
        "id": "aaSGxK5wMr-L"
      },
      "source": [
        "### **Data Preprocessing**"
      ]
    },
    {
      "cell_type": "code",
      "execution_count": null,
      "metadata": {
        "id": "i-eTWKvQIFGo"
      },
      "outputs": [],
      "source": [
        "dataset.head()"
      ]
    },
    {
      "cell_type": "code",
      "execution_count": null,
      "metadata": {
        "id": "Zhu4bGJMJe96"
      },
      "outputs": [],
      "source": [
        "dataset.isna().sum()"
      ]
    },
    {
      "cell_type": "code",
      "execution_count": null,
      "metadata": {
        "id": "vmDk_nXKJ7_Q"
      },
      "outputs": [],
      "source": [
        "from sklearn.preprocessing import LabelEncoder, StandardScaler\n",
        "\n",
        "le_sex = LabelEncoder()\n",
        "le_smoker = LabelEncoder()\n",
        "le_region = LabelEncoder()"
      ]
    },
    {
      "cell_type": "code",
      "execution_count": null,
      "metadata": {
        "id": "OR3kB9zzJeW0"
      },
      "outputs": [],
      "source": [
        "dataset['sex'] = le_sex.fit_transform(dataset['sex'])\n",
        "dataset['smoker'] = le_smoker.fit_transform(dataset['smoker'])\n",
        "dataset['region'] = le_region.fit_transform(dataset['region'])"
      ]
    },
    {
      "cell_type": "code",
      "execution_count": null,
      "metadata": {
        "id": "ObAxtRnMIEU6"
      },
      "outputs": [],
      "source": [
        "dataset.head()"
      ]
    },
    {
      "cell_type": "markdown",
      "metadata": {
        "id": "UeAHH7lCM4tY"
      },
      "source": [
        "### **Splitting the data**"
      ]
    },
    {
      "cell_type": "code",
      "execution_count": null,
      "metadata": {
        "id": "qtRmoMSYIESp"
      },
      "outputs": [],
      "source": [
        "from sklearn.model_selection import train_test_split\n",
        "\n",
        "X = dataset.drop(['expenses'], axis=1)\n",
        "y = dataset['expenses']\n",
        "\n",
        "train_dataset, test_dataset = train_test_split(dataset, test_size=0.2, random_state=42)"
      ]
    },
    {
      "cell_type": "code",
      "execution_count": null,
      "metadata": {
        "id": "uTgODn15PPW-"
      },
      "outputs": [],
      "source": [
        "train_labels = train_dataset.pop('expenses')\n",
        "test_labels = test_dataset.pop('expenses')"
      ]
    },
    {
      "cell_type": "code",
      "execution_count": null,
      "metadata": {
        "id": "CaSDbWlGIEQZ"
      },
      "outputs": [],
      "source": [
        "scaler = StandardScaler()\n",
        "numerical_features = ['age', 'bmi', 'children']\n",
        "train_dataset[numerical_features] = scaler.fit_transform(train_dataset[numerical_features])\n",
        "test_dataset[numerical_features] = scaler.transform(test_dataset[numerical_features])"
      ]
    },
    {
      "cell_type": "markdown",
      "metadata": {
        "id": "JDz8hkbQNr89"
      },
      "source": [
        "### **Creating the Model**"
      ]
    },
    {
      "cell_type": "code",
      "execution_count": null,
      "metadata": {
        "id": "F9luom2nIELn"
      },
      "outputs": [],
      "source": [
        "import tensorflow as tf\n",
        "from keras import Sequential\n",
        "from keras.layers import Dense"
      ]
    },
    {
      "cell_type": "code",
      "execution_count": null,
      "metadata": {
        "id": "qFJ-cg3kIEJY"
      },
      "outputs": [],
      "source": [
        "model = Sequential([\n",
        "    Dense(256, activation='relu', input_shape=(train_dataset.shape[1],)),\n",
        "    Dense(128, activation='relu'),\n",
        "    Dense(64, activation='relu'),\n",
        "    Dense(32, activation='relu'),\n",
        "    Dense(1)\n",
        "])"
      ]
    },
    {
      "cell_type": "code",
      "execution_count": null,
      "metadata": {
        "id": "IrsdyazGLyW8"
      },
      "outputs": [],
      "source": [
        "model.compile(optimizer='adam', loss='mse', metrics=['mae', 'mse'])"
      ]
    },
    {
      "cell_type": "code",
      "execution_count": null,
      "metadata": {
        "id": "eIO5RkXiLyTb"
      },
      "outputs": [],
      "source": [
        "history = model.fit(train_dataset, train_labels, epochs=200, validation_split=0.1)"
      ]
    },
    {
      "cell_type": "code",
      "execution_count": null,
      "metadata": {
        "id": "DBMctGNaIEG2"
      },
      "outputs": [],
      "source": [
        "loss, mae, mse = model.evaluate(test_dataset, test_labels, verbose=2)\n",
        "print(f\"MAE: {mae:.2f}\")"
      ]
    },
    {
      "cell_type": "code",
      "execution_count": null,
      "metadata": {
        "id": "aSa1lYhHOs8J"
      },
      "outputs": [],
      "source": [
        "fig, (ax1, ax2) = plt.subplots(1, 2, figsize=(12, 5))\n",
        "\n",
        "# Plot 1: Training and Validation Loss (MSE)\n",
        "ax1.plot(history.history['loss'], label='Training Loss (MSE)')\n",
        "ax1.plot(history.history['val_loss'], label='Validation Loss (MSE)')\n",
        "ax1.set_title('Training and Validation Loss')\n",
        "ax1.set_xlabel('Epoch')\n",
        "ax1.set_ylabel('Loss (MSE)')\n",
        "ax1.legend()\n",
        "ax1.grid(True)\n",
        "\n",
        "# Plot 2: Training and Validation MAE\n",
        "ax2.plot(history.history['mae'], label='Training MAE')\n",
        "ax2.plot(history.history['val_mae'], label='Validation MAE')\n",
        "ax2.set_title('Training and Validation MAE')\n",
        "ax2.set_xlabel('Epoch')\n",
        "ax2.set_ylabel('MAE')\n",
        "ax2.legend()\n",
        "ax2.grid(True)\n",
        "\n",
        "plt.tight_layout()\n",
        "plt.show()"
      ]
    },
    {
      "cell_type": "code",
      "execution_count": null,
      "metadata": {
        "id": "HHiUAZcvIECP"
      },
      "outputs": [],
      "source": [
        "predictions = model.predict(test_dataset).flatten()\n",
        "plt.scatter(test_labels, predictions, label='Predicted vs Actual')\n",
        "plt.plot([test_labels.min(), test_labels.max()], [test_labels.min(), test_labels.max()], 'r--')\n",
        "plt.xlabel('Actual Expenses')\n",
        "plt.ylabel('Predicted Expenses')\n",
        "plt.legend()\n",
        "plt.show()"
      ]
    },
    {
      "cell_type": "code",
      "execution_count": null,
      "metadata": {
        "id": "Xe7RXH3N3CWU"
      },
      "outputs": [],
      "source": [
        "# RUN THIS CELL TO TEST YOUR MODEL. DO NOT MODIFY CONTENTS.\n",
        "# Test model by checking how well the model generalizes using the test set.\n",
        "loss, mae, mse = model.evaluate(test_dataset, test_labels, verbose=2)\n",
        "\n",
        "print(\"Testing set Mean Abs Error: {:5.2f} expenses\".format(mae))\n",
        "\n",
        "if mae < 3500:\n",
        "  print(\"You passed the challenge. Great job!\")\n",
        "else:\n",
        "  print(\"The Mean Abs Error must be less than 3500. Keep trying.\")\n",
        "\n",
        "# Plot predictions.\n",
        "test_predictions = model.predict(test_dataset).flatten()\n",
        "\n",
        "a = plt.axes(aspect='equal')\n",
        "plt.scatter(test_labels, test_predictions)\n",
        "plt.xlabel('True values (expenses)')\n",
        "plt.ylabel('Predictions (expenses)')\n",
        "lims = [0, 50000]\n",
        "plt.xlim(lims)\n",
        "plt.ylim(lims)\n",
        "_ = plt.plot(lims,lims)\n"
      ]
    },
    {
      "cell_type": "code",
      "execution_count": null,
      "metadata": {
        "id": "wxDR9yGrP3Bv"
      },
      "outputs": [],
      "source": []
    }
  ],
  "metadata": {
    "colab": {
      "private_outputs": true,
      "provenance": [],
      "toc_visible": true
    },
    "kernelspec": {
      "display_name": "Python 3",
      "name": "python3"
    }
  },
  "nbformat": 4,
  "nbformat_minor": 0
}
