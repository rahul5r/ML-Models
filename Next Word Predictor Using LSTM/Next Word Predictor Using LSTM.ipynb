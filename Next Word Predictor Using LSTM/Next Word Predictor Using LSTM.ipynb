{
 "cells": [
  {
   "cell_type": "code",
   "execution_count": 2,
   "id": "b8450d8d",
   "metadata": {},
   "outputs": [],
   "source": [
    "import numpy as np\n",
    "import pandas as  pd"
   ]
  },
  {
   "cell_type": "code",
   "execution_count": 17,
   "id": "f04ae629",
   "metadata": {},
   "outputs": [
    {
     "data": {
      "text/html": [
       "<div>\n",
       "<style scoped>\n",
       "    .dataframe tbody tr th:only-of-type {\n",
       "        vertical-align: middle;\n",
       "    }\n",
       "\n",
       "    .dataframe tbody tr th {\n",
       "        vertical-align: top;\n",
       "    }\n",
       "\n",
       "    .dataframe thead th {\n",
       "        text-align: right;\n",
       "    }\n",
       "</style>\n",
       "<table border=\"1\" class=\"dataframe\">\n",
       "  <thead>\n",
       "    <tr style=\"text-align: right;\">\n",
       "      <th></th>\n",
       "      <th>Joke</th>\n",
       "    </tr>\n",
       "  </thead>\n",
       "  <tbody>\n",
       "    <tr>\n",
       "      <th>0</th>\n",
       "      <td>[me narrating a documentary about narrators] \"...</td>\n",
       "    </tr>\n",
       "    <tr>\n",
       "      <th>1</th>\n",
       "      <td>Telling my daughter garlic is good for you. Go...</td>\n",
       "    </tr>\n",
       "    <tr>\n",
       "      <th>2</th>\n",
       "      <td>I've been going through a really rough period ...</td>\n",
       "    </tr>\n",
       "    <tr>\n",
       "      <th>3</th>\n",
       "      <td>If I could have dinner with anyone, dead or al...</td>\n",
       "    </tr>\n",
       "    <tr>\n",
       "      <th>4</th>\n",
       "      <td>Two guys walk into a bar. The third guy ducks.</td>\n",
       "    </tr>\n",
       "  </tbody>\n",
       "</table>\n",
       "</div>"
      ],
      "text/plain": [
       "                                                Joke\n",
       "0  [me narrating a documentary about narrators] \"...\n",
       "1  Telling my daughter garlic is good for you. Go...\n",
       "2  I've been going through a really rough period ...\n",
       "3  If I could have dinner with anyone, dead or al...\n",
       "4     Two guys walk into a bar. The third guy ducks."
      ]
     },
     "execution_count": 17,
     "metadata": {},
     "output_type": "execute_result"
    }
   ],
   "source": [
    "data = pd.read_csv('shortjokes.csv')\n",
    "data.drop(\"ID\", axis=1, inplace=True)\n",
    "\n",
    "data.head()"
   ]
  },
  {
   "cell_type": "code",
   "execution_count": 24,
   "id": "af0e1372",
   "metadata": {},
   "outputs": [],
   "source": [
    "jokes = data['Joke'].tolist()"
   ]
  },
  {
   "cell_type": "code",
   "execution_count": 25,
   "id": "af96be2d",
   "metadata": {},
   "outputs": [],
   "source": [
    "import tensorflow as tf\n",
    "from tensorflow.keras.preprocessing.text import Tokenizer"
   ]
  },
  {
   "cell_type": "code",
   "execution_count": 26,
   "id": "0c6af447",
   "metadata": {},
   "outputs": [],
   "source": [
    "tokenizer = Tokenizer() "
   ]
  },
  {
   "cell_type": "code",
   "execution_count": 27,
   "id": "6a0bbf09",
   "metadata": {},
   "outputs": [],
   "source": [
    "tokenizer.fit_on_texts(jokes)"
   ]
  },
  {
   "cell_type": "code",
   "execution_count": 29,
   "id": "daeb6490",
   "metadata": {},
   "outputs": [
    {
     "data": {
      "text/plain": [
       "['[me narrating a documentary about narrators] \"I can\\'t hear what they\\'re saying cuz I\\'m talking\"',\n",
       " 'Telling my daughter garlic is good for you. Good immune system and keeps pests away.Ticks, mosquitos, vampires... men.',\n",
       " \"I've been going through a really rough period at work this week It's my own fault for swapping my tampax for sand paper.\",\n",
       " 'If I could have dinner with anyone, dead or alive... ...I would choose alive. -B.J. Novak-',\n",
       " 'Two guys walk into a bar. The third guy ducks.']"
      ]
     },
     "execution_count": 29,
     "metadata": {},
     "output_type": "execute_result"
    }
   ],
   "source": [
    "jokes[:5]"
   ]
  },
  {
   "cell_type": "code",
   "execution_count": 32,
   "id": "697140bf",
   "metadata": {},
   "outputs": [],
   "source": [
    "input_sequences = []\n",
    "\n",
    "for joke in jokes:\n",
    "    tokenized_sentence =  tokenizer.texts_to_sequences([joke])[0]\n",
    "    \n",
    "    for i in range(1, len(tokenized_sentence)):\n",
    "        input_sequences.append(tokenized_sentence[:i+1])"
   ]
  },
  {
   "cell_type": "code",
   "execution_count": 33,
   "id": "091986d8",
   "metadata": {},
   "outputs": [
    {
     "data": {
      "text/plain": [
       "[[14, 9605],\n",
       " [14, 9605, 1],\n",
       " [14, 9605, 1, 3157],\n",
       " [14, 9605, 1, 3157, 43],\n",
       " [14, 9605, 1, 3157, 43, 21293],\n",
       " [14, 9605, 1, 3157, 43, 21293, 3],\n",
       " [14, 9605, 1, 3157, 43, 21293, 3, 81],\n",
       " [14, 9605, 1, 3157, 43, 21293, 3, 81, 97],\n",
       " [14, 9605, 1, 3157, 43, 21293, 3, 81, 97, 10],\n",
       " [14, 9605, 1, 3157, 43, 21293, 3, 81, 97, 10, 149]]"
      ]
     },
     "execution_count": 33,
     "metadata": {},
     "output_type": "execute_result"
    }
   ],
   "source": [
    "input_sequences[:10]"
   ]
  },
  {
   "cell_type": "code",
   "execution_count": 35,
   "id": "4d7113fe",
   "metadata": {},
   "outputs": [],
   "source": [
    "max_len = max([len(x) for x in input_sequences])"
   ]
  },
  {
   "cell_type": "code",
   "execution_count": 37,
   "id": "0256f810",
   "metadata": {},
   "outputs": [],
   "source": [
    "from tensorflow.keras.preprocessing.sequence import pad_sequences\n",
    "\n",
    "padded_input_sequences = pad_sequences(input_sequences, maxlen=max_len, padding='pre')"
   ]
  },
  {
   "cell_type": "code",
   "execution_count": 39,
   "id": "e5d1da9a",
   "metadata": {},
   "outputs": [
    {
     "data": {
      "text/plain": [
       "array([[   0,    0,    0,    0,    0,    0,    0,    0,    0,    0,    0,\n",
       "           0,    0,    0,    0,    0,    0,    0,    0,    0,    0,    0,\n",
       "           0,    0,    0,    0,    0,    0,    0,    0,    0,    0,    0,\n",
       "           0,    0,    0,    0,    0,    0,    0,    0,    0,    0,    0,\n",
       "           0,    0,    0,    0,    0,    0,    0,    0,    0,    0,    0,\n",
       "           0,    0,    0,    0,    0,    0,    0,    0,    0,    0,    0,\n",
       "           0,    0,    0,    0,    0,    0,    0,    0,    0,    0,    0,\n",
       "           0,    0,    0,    0,    0,    0,    0,    0,    0,    0,    0,\n",
       "           0,    0,    0,   14, 9605]])"
      ]
     },
     "execution_count": 39,
     "metadata": {},
     "output_type": "execute_result"
    }
   ],
   "source": [
    "padded_input_sequences[:1]"
   ]
  },
  {
   "cell_type": "code",
   "execution_count": 41,
   "id": "5ab7bbe7",
   "metadata": {},
   "outputs": [],
   "source": [
    "X = padded_input_sequences[:,:-1]\n",
    "y = padded_input_sequences[:,-1]"
   ]
  },
  {
   "cell_type": "code",
   "execution_count": null,
   "id": "2adcaeac",
   "metadata": {},
   "outputs": [],
   "source": [
    "from tensorflow.keras.utils import to_categorical\n",
    "\n",
    "y = to_categorical(y, num_classes=len(tokenizer.word_index)+1)"
   ]
  }
 ],
 "metadata": {
  "kernelspec": {
   "display_name": "Python 3",
   "language": "python",
   "name": "python3"
  },
  "language_info": {
   "codemirror_mode": {
    "name": "ipython",
    "version": 3
   },
   "file_extension": ".py",
   "mimetype": "text/x-python",
   "name": "python",
   "nbconvert_exporter": "python",
   "pygments_lexer": "ipython3",
   "version": "3.12.10"
  }
 },
 "nbformat": 4,
 "nbformat_minor": 5
}
